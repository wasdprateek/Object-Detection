{
 "cells": [
  {
   "cell_type": "markdown",
   "metadata": {},
   "source": [
    "# 1. Import Dependencies"
   ]
  },
  {
   "cell_type": "code",
   "execution_count": 1,
   "metadata": {},
   "outputs": [
    {
     "name": "stdout",
     "output_type": "stream",
     "text": [
      "zsh:1: command not found: pip\n"
     ]
    }
   ],
   "source": [
    "!pip install opencv-python"
   ]
  },
  {
   "cell_type": "code",
   "execution_count": 4,
   "metadata": {},
   "outputs": [],
   "source": [
    "# Import opencv\n",
    "import cv2 \n",
    "\n",
    "# Import uuid\n",
    "import uuid\n",
    "\n",
    "# Import Operating System\n",
    "import os\n",
    "\n",
    "# Import time\n",
    "import time"
   ]
  },
  {
   "cell_type": "markdown",
   "metadata": {},
   "source": [
    "# 2. Define Images to Collect"
   ]
  },
  {
   "cell_type": "code",
   "execution_count": 3,
   "metadata": {},
   "outputs": [],
   "source": [
    "labels = ['Prateek']\n",
    "number_imgs = 5"
   ]
  },
  {
   "cell_type": "markdown",
   "metadata": {},
   "source": [
    "# 3. Setup Folders "
   ]
  },
  {
   "cell_type": "code",
   "execution_count": 4,
   "metadata": {},
   "outputs": [],
   "source": [
    "IMAGES_PATH = os.path.join('Tensorflow', 'workspace', 'images', 'collectedimages')"
   ]
  },
  {
   "cell_type": "code",
   "execution_count": 5,
   "metadata": {},
   "outputs": [],
   "source": [
    "if not os.path.exists(IMAGES_PATH):\n",
    "    if os.name == 'posix':\n",
    "        !mkdir -p {IMAGES_PATH}\n",
    "    if os.name == 'nt':\n",
    "         !mkdir {IMAGES_PATH}\n",
    "for label in labels:\n",
    "    path = os.path.join(IMAGES_PATH, label)\n",
    "    if not os.path.exists(path):\n",
    "        !mkdir {path}"
   ]
  },
  {
   "cell_type": "markdown",
   "metadata": {},
   "source": [
    "# 4. Capture Images"
   ]
  },
  {
   "cell_type": "code",
   "execution_count": 6,
   "metadata": {},
   "outputs": [
    {
     "name": "stdout",
     "output_type": "stream",
     "text": [
      "Collecting images for Prateek\n",
      "Collecting image 0\n",
      "Collecting image 1\n",
      "Collecting image 2\n",
      "Collecting image 3\n",
      "Collecting image 4\n"
     ]
    }
   ],
   "source": [
    "for label in labels:\n",
    "    cap = cv2.VideoCapture(0)\n",
    "    print('Collecting images for {}'.format(label))\n",
    "    time.sleep(5)\n",
    "    for imgnum in range(number_imgs):\n",
    "        print('Collecting image {}'.format(imgnum))\n",
    "        ret, frame = cap.read()\n",
    "        imgname = os.path.join(IMAGES_PATH,label,label+'.'+'{}.jpg'.format(str(uuid.uuid1())))\n",
    "        cv2.imwrite(imgname, frame)\n",
    "        cv2.imshow('frame', frame)\n",
    "        time.sleep(2)\n",
    "\n",
    "        if cv2.waitKey(1) & 0xFF == ord('q'):\n",
    "            break\n",
    "cap.release()\n",
    "cv2.destroyAllWindows()"
   ]
  },
  {
   "cell_type": "markdown",
   "metadata": {},
   "source": [
    "# 5. Image Labelling"
   ]
  },
  {
   "cell_type": "code",
   "execution_count": 2,
   "metadata": {},
   "outputs": [
    {
     "name": "stdout",
     "output_type": "stream",
     "text": [
      "Defaulting to user installation because normal site-packages is not writeable\n",
      "Collecting pyqt5\n",
      "  Using cached PyQt5-5.15.10-cp37-abi3-macosx_11_0_arm64.whl (6.6 MB)\n",
      "Collecting lxml\n",
      "  Using cached lxml-4.9.3.tar.gz (3.6 MB)\n",
      "Collecting PyQt5-Qt5>=5.15.2\n",
      "  Downloading PyQt5_Qt5-5.15.11-1-py3-none-macosx_11_0_arm64.whl (36.6 MB)\n",
      "\u001b[K     |████████████████████████████████| 36.6 MB 2.8 MB/s eta 0:00:01\n",
      "\u001b[?25hCollecting PyQt5-sip<13,>=12.13\n",
      "  Downloading PyQt5_sip-12.13.0-cp39-cp39-macosx_10_9_universal2.whl (144 kB)\n",
      "\u001b[K     |████████████████████████████████| 144 kB 6.2 MB/s eta 0:00:01\n",
      "\u001b[?25hBuilding wheels for collected packages: lxml\n",
      "  Building wheel for lxml (setup.py) ... \u001b[?25ldone\n",
      "\u001b[?25h  Created wheel for lxml: filename=lxml-4.9.3-cp39-cp39-macosx_10_9_universal2.whl size=2859816 sha256=63b6f2f4b4c89a386955626f94ba430dba4a7607076fc9ec6280003ad80cfba0\n",
      "  Stored in directory: /Users/prateekkumarrai/Library/Caches/pip/wheels/5c/05/aa/530f84480d476c5bb9ea09877eea78fb144ec047fbb00ee2ca\n",
      "Successfully built lxml\n",
      "Installing collected packages: PyQt5-sip, PyQt5-Qt5, pyqt5, lxml\n",
      "Successfully installed PyQt5-Qt5-5.15.11 PyQt5-sip-12.13.0 lxml-4.9.3 pyqt5-5.15.10\n",
      "\u001b[33mWARNING: You are using pip version 21.2.4; however, version 23.3.1 is available.\n",
      "You should consider upgrading via the '/Library/Developer/CommandLineTools/usr/bin/python3 -m pip install --upgrade pip' command.\u001b[0m\n",
      "Note: you may need to restart the kernel to use updated packages.\n"
     ]
    }
   ],
   "source": [
    "pip install --upgrade pyqt5 lxml"
   ]
  },
  {
   "cell_type": "code",
   "execution_count": 5,
   "metadata": {},
   "outputs": [],
   "source": [
    "LABELIMG_PATH = os.path.join('Tensorflow', 'labelimg')"
   ]
  },
  {
   "cell_type": "code",
   "execution_count": 6,
   "metadata": {},
   "outputs": [],
   "source": [
    "if not os.path.exists(LABELIMG_PATH):\n",
    "    !mkdir {LABELIMG_PATH}\n",
    "    !git clone https://github.com/tzutalin/labelImg {LABELIMG_PATH}"
   ]
  },
  {
   "cell_type": "code",
   "execution_count": 7,
   "metadata": {},
   "outputs": [
    {
     "name": "stdout",
     "output_type": "stream",
     "text": [
      "pyrcc5 -o libs/resources.py resources.qrc\n"
     ]
    }
   ],
   "source": [
    "if os.name == 'posix':\n",
    "    !cd {LABELIMG_PATH} && make qt5py3\n",
    "if os.name =='nt':\n",
    "    !cd {LABELIMG_PATH} && pyrcc5 -o libs/resources.py resources.qrc"
   ]
  },
  {
   "cell_type": "code",
   "execution_count": 14,
   "metadata": {},
   "outputs": [
    {
     "name": "stdout",
     "output_type": "stream",
     "text": [
      "2023-11-30 02:42:29.777 Python[54884:12596355] +[CATransaction synchronize] called within transaction\n",
      "Image:/Users/prateekkumarrai/Desktop/TFOD/TFODCourse/Tensorflow/workspace/images/collectedimages/Prateek/Prateek.74dd7264-8ef8-11ee-b1a2-e26d0df45d5b.jpg -> Annotation:/Users/prateekkumarrai/Desktop/TFOD/TFODCourse/Tensorflow/workspace/images/collectedimages/Prateek.74dd7264-8ef8-11ee-b1a2-e26d0df45d5b.xml\n",
      "Image:/Users/prateekkumarrai/Desktop/TFOD/TFODCourse/Tensorflow/workspace/images/collectedimages/Prateek/Prateek.7753bf3a-8ef8-11ee-b1a2-e26d0df45d5b.jpg -> Annotation:/Users/prateekkumarrai/Desktop/TFOD/TFODCourse/Tensorflow/workspace/images/collectedimages/Prateek.7753bf3a-8ef8-11ee-b1a2-e26d0df45d5b.xml\n",
      "Image:/Users/prateekkumarrai/Desktop/TFOD/TFODCourse/Tensorflow/workspace/images/collectedimages/Prateek/Prateek.73894d48-8ef8-11ee-b1a2-e26d0df45d5b.jpg -> Annotation:/Users/prateekkumarrai/Desktop/TFOD/TFODCourse/Tensorflow/workspace/images/collectedimages/Prateek.73894d48-8ef8-11ee-b1a2-e26d0df45d5b.xml\n",
      "Image:/Users/prateekkumarrai/Desktop/TFOD/TFODCourse/Tensorflow/workspace/images/collectedimages/Prateek/Prateek.76189c08-8ef8-11ee-b1a2-e26d0df45d5b.jpg -> Annotation:/Users/prateekkumarrai/Desktop/TFOD/TFODCourse/Tensorflow/workspace/images/collectedimages/Prateek.76189c08-8ef8-11ee-b1a2-e26d0df45d5b.xml\n",
      "Image:/Users/prateekkumarrai/Desktop/TFOD/TFODCourse/Tensorflow/workspace/images/collectedimages/Prateek/Prateek.789949be-8ef8-11ee-b1a2-e26d0df45d5b.jpg -> Annotation:/Users/prateekkumarrai/Desktop/TFOD/TFODCourse/Tensorflow/workspace/images/collectedimages/Prateek.789949be-8ef8-11ee-b1a2-e26d0df45d5b.xml\n"
     ]
    }
   ],
   "source": [
    "!cd {LABELIMG_PATH} && python3 labelImg.py"
   ]
  },
  {
   "cell_type": "markdown",
   "metadata": {},
   "source": [
    "# 6. Move them into a Training and Testing Partition"
   ]
  },
  {
   "cell_type": "markdown",
   "metadata": {},
   "source": [
    "# OPTIONAL - 7. Compress them for Colab Training"
   ]
  },
  {
   "cell_type": "code",
   "execution_count": 20,
   "metadata": {},
   "outputs": [],
   "source": [
    "TRAIN_PATH = os.path.join('Tensorflow', 'workspace', 'images', 'train')\n",
    "TEST_PATH = os.path.join('Tensorflow', 'workspace', 'images', 'test')\n",
    "ARCHIVE_PATH = os.path.join('Tensorflow', 'workspace', 'images', 'archive.tar.gz')"
   ]
  },
  {
   "cell_type": "code",
   "execution_count": 21,
   "metadata": {},
   "outputs": [],
   "source": [
    "!tar -czf {ARCHIVE_PATH} {TRAIN_PATH} {TEST_PATH}"
   ]
  },
  {
   "cell_type": "code",
   "execution_count": null,
   "metadata": {},
   "outputs": [],
   "source": []
  }
 ],
 "metadata": {
  "kernelspec": {
   "display_name": "Python 3",
   "language": "python",
   "name": "python3"
  },
  "language_info": {
   "codemirror_mode": {
    "name": "ipython",
    "version": 3
   },
   "file_extension": ".py",
   "mimetype": "text/x-python",
   "name": "python",
   "nbconvert_exporter": "python",
   "pygments_lexer": "ipython3",
   "version": "3.9.6"
  }
 },
 "nbformat": 4,
 "nbformat_minor": 2
}
